{
 "cells": [
  {
   "cell_type": "code",
   "execution_count": 37,
   "metadata": {
    "collapsed": true
   },
   "outputs": [],
   "source": [
    "import sys\n",
    "import re"
   ]
  },
  {
   "cell_type": "markdown",
   "metadata": {},
   "source": [
    "# Heap of sentences"
   ]
  },
  {
   "cell_type": "code",
   "execution_count": 38,
   "metadata": {},
   "outputs": [],
   "source": [
    "stem_word = [\"the\",\"a\",\"an\",\"was\",\"is\",\"are\",\"of\"]\n",
    "weight={}\n",
    "max_heap=[tuple()]\n",
    "heap_size = 0\n",
    "def insert(weight_set):\n",
    "    max_heap.append(weight_set)\n",
    "    swim()\n",
    "def swim():\n",
    "    index = len(max_heap)-1\n",
    "    while (index > 1 and max_heap[(index)//2][0]< max_heap[index][0]):\n",
    "        swap((index)//2,index)\n",
    "        index = (index)//2\n",
    "    return\n",
    "def sink(n):\n",
    "    right_index = 2*n+1\n",
    "    left_index = 2*n\n",
    "    source = n\n",
    "    if (right_index<(len(max_heap)-1) and max_heap[right_index][0]>max_heap[source][0]):\n",
    "        source = right_index\n",
    "    if (right_index<(len(max_heap)-1) and max_heap[left_index][0]>max_heap[source][0]):\n",
    "        source = left_index\n",
    "    if (source != n):\n",
    "        swap(n,source)\n",
    "        sink(source)\n",
    "    return\n",
    "def swap(a,b):\n",
    "    max_heap[a],max_heap[b]=max_heap[b],max_heap[a]\n",
    "def pop():\n",
    "    index = len(max_heap)-1\n",
    "    val = max_heap[1]\n",
    "    max_heap[1] = max_heap[index]\n",
    "    del max_heap[index]\n",
    "    sink(1)\n",
    "    return val"
   ]
  },
  {
   "cell_type": "markdown",
   "metadata": {},
   "source": [
    "# Min heap"
   ]
  },
  {
   "cell_type": "code",
   "execution_count": 39,
   "metadata": {
    "collapsed": true
   },
   "outputs": [],
   "source": [
    "min_heap=[tuple()]\n",
    "def insert1(weight_set):\n",
    "    min_heap.append(weight_set)\n",
    "    swim1()\n",
    "def swim1():\n",
    "    index = len(min_heap)-1\n",
    "    while (index > 1 and min_heap[(index)//2][0]> min_heap[index][0]):\n",
    "        swap1((index)//2,index)\n",
    "        index = (index)//2\n",
    "    return\n",
    "def sink1(n):\n",
    "    right_index = 2*n+1\n",
    "    left_index = 2*n\n",
    "    source = n\n",
    "    if (right_index<(len(min_heap)-1) and min_heap[right_index][0]<min_heap[source][0]):\n",
    "        source = right_index\n",
    "    if (right_index<(len(min_heap)-1) and min_heap[left_index][0]<min_heap[source][0]):\n",
    "        source = left_index\n",
    "    if (source != n):\n",
    "        swap1(n,source)\n",
    "        sink1(source)\n",
    "    return\n",
    "def swap1(a,b):\n",
    "    min_heap[a],min_heap[b]=min_heap[b],min_heap[a]\n",
    "def pop1():\n",
    "    index = len(min_heap)-1\n",
    "    val = min_heap[1]\n",
    "    min_heap[1] = min_heap[index]\n",
    "    del min_heap[index]\n",
    "    sink1(1)\n",
    "    return val\n"
   ]
  },
  {
   "cell_type": "code",
   "execution_count": 40,
   "metadata": {},
   "outputs": [],
   "source": [
    "if __name__=='__main__':\n",
    "    file1=open(\"textpara.txt\",\"r+\");\n",
    "    text_string = file1.read().lower()\n",
    "    match_pattern = re.findall(r'\\b[a-z]{3,25}\\b', text_string)"
   ]
  },
  {
   "cell_type": "markdown",
   "metadata": {},
   "source": [
    "# Generating word vector"
   ]
  },
  {
   "cell_type": "code",
   "execution_count": 41,
   "metadata": {},
   "outputs": [
    {
     "name": "stdout",
     "output_type": "stream",
     "text": [
      "('major', 0)\n",
      "('point', 0)\n",
      "('being', 0)\n",
      "('relate', 0)\n",
      "('into', 0)\n",
      "('argument', 0)\n",
      "('topic', 0)\n",
      "('hook', 0)\n",
      "('strongest', 0)\n",
      "('paper', 0)\n",
      "('thesis', 0)\n",
      "('follow', 0)\n",
      "('end', 0)\n",
      "('for', 0)\n",
      "('with', 0)\n",
      "('sentence', 0)\n",
      "('should', 0)\n",
      "('signals', 0)\n",
      "('also', 0)\n",
      "('which', 0)\n",
      "('reader', 0)\n",
      "('tie', 0)\n",
      "('include', 0)\n",
      "('final', 0)\n",
      "('third', 0)\n",
      "('body', 0)\n",
      "('statement', 0)\n",
      "('that', 0)\n",
      "('illustration', 0)\n",
      "('most', 0)\n",
      "('significant', 0)\n",
      "('concluding', 0)\n",
      "('ties', 0)\n",
      "('cleverest', 0)\n",
      "('beginning', 0)\n",
      "('leads', 0)\n",
      "('made', 0)\n",
      "('last', 0)\n",
      "('reverse', 0)\n",
      "('transitional', 0)\n",
      "('this', 0)\n",
      "('introductory', 0)\n",
      "('second', 0)\n",
      "('paragraph', 0)\n",
      "('obvious', 0)\n",
      "('contain', 0)\n",
      "('the', 0)\n",
      "('weakest', 0)\n",
      "('example', 0)\n",
      "('first', 0)\n"
     ]
    }
   ],
   "source": [
    "    for word in match_pattern:\n",
    "        count = weight.get(word,0)\n",
    "        weight[word] = count + 1\n",
    "    frequency_list = weight.keys()\n",
    "    for words in frequency_list:\n",
    "        print(words, weight[words]/sum(weight.values()))\n",
    "    file1.close()\n"
   ]
  },
  {
   "cell_type": "code",
   "execution_count": 42,
   "metadata": {},
   "outputs": [
    {
     "name": "stdout",
     "output_type": "stream",
     "text": [
      "\n",
      "\n",
      "PART 2\n",
      "point.\n",
      "paragraph.\n",
      "sentence.\n",
      "paragraph.\n",
      "body.\n",
      "body.\n",
      "body.\n",
      "sentence.\n",
      "paragraph.\n",
      "body.\n",
      "body.\n",
      "paragraph.\n",
      "sentence.\n",
      "paragraph.\n",
      "paper.\n",
      "paragraph.\n"
     ]
    }
   ],
   "source": [
    "    print(\"\\n\\nPART 2\")\n",
    "    file1=open(\"textpara.txt\",\"r+\");\n",
    "    sentence = file1.read().lower().split()\n",
    "    for word in sentence:\n",
    "        if word[-1]==\".\":\n",
    "            print(word)\n",
    "    file1.close()"
   ]
  },
  {
   "cell_type": "code",
   "execution_count": 43,
   "metadata": {},
   "outputs": [
    {
     "name": "stdout",
     "output_type": "stream",
     "text": [
      "[(), (247102560276128L, 'this hook also leads into the last, or concluding, paragraph.'), (90555029732585L, 'the last sentence in this paragraph should include a transitional concluding hook that signals the reader that this is the final major point being made in this paper.'), (4703586904376L, 'this topic should relate to the thesis statement in the introductory paragraph.'), (4402268184L, 'the last sentence in this paragraph should include a transitional hook to tie into the third paragraph of the body.'), (649361267, 'this topic should relate to the thesis statement in the introductory paragraph.'), (108537182448L, 'the third paragraph of the body should contain the weakest argument, weakest example, weakest illustration, or an obvious follow up to the second paragraph in the body.'), (1300062545359L, 'the topic for this paragraph should be in the first or second sentence.'), (58586575, 'the first sentence of this paragraph should include the reverse hook which ties in with the transitional hook at the end of the first paragraph of the body.'), (30149, 'this topic should relate to the thesis statement in the introductory paragraph.'), (9345, 'the topic for this paragraph should be in the first or second sentence.'), (203647008, 'the topic for this paragraph should be in the first or second sentence.'), (4639, 'the first sentence of this paragraph should include the \"reverse hook\" which ties in with the transitional hook at the end of the introductory paragraph.'), (8624722, 'the second paragraph of the body should contain the second strongest argument, second most significant example, second cleverest illustration, or an obvious follow up the first paragraph in the body.'), (216190, 'the last sentence in this paragraph should include a transitional hook to tie into the second paragraph of the body.'), (558302906443L, 'the first sentence of this paragraph should include the reverse hook which ties in with the transitional hook at the end of the second paragraph.'), (1173, 'the first paragraph of the body should contain the strongest argument, most significant example, cleverest illustration, or an obvious beginning point.')]\n"
     ]
    }
   ],
   "source": [
    "    local_sentence= []\n",
    "    weight_sentence=0\n",
    "    for word in sentence:\n",
    "        if word[-1]==\".\":\n",
    "            if (word in stem_word):\n",
    "                pass\n",
    "            else:\n",
    "                weight_sentence+=weight[word[0:-1]]\n",
    "            local_sentence.append(word)\n",
    "            insert(tuple((weight_sentence,\" \".join(local_sentence))))\n",
    "            weight_sentence=0\n",
    "            local_sentence = []\n",
    "        else:\n",
    "            if (word in stem_word):\n",
    "                pass\n",
    "            else:\n",
    "                count+=weight.get(word,0)\n",
    "                weight_sentence+=count\n",
    "                weight[word]=count\n",
    "            local_sentence.append(word)\n",
    "    print(max_heap)"
   ]
  },
  {
   "cell_type": "code",
   "execution_count": 44,
   "metadata": {},
   "outputs": [
    {
     "name": "stdout",
     "output_type": "stream",
     "text": [
      "Enter the number of lines you want in summary: 5\n"
     ]
    }
   ],
   "source": [
    "    for _ in range(int(input('Enter the number of lines you want in summary: '))):\n",
    "        insert1(pop())\n"
   ]
  },
  {
   "cell_type": "code",
   "execution_count": 45,
   "metadata": {},
   "outputs": [
    {
     "name": "stdout",
     "output_type": "stream",
     "text": [
      "('the first sentence of this paragraph should include the reverse hook which ties in with the transitional hook at the end of the second paragraph.', ' ')\n",
      "('the topic for this paragraph should be in the first or second sentence.', ' ')\n",
      "('this hook also leads into the last, or concluding, paragraph.', ' ')\n",
      "('the last sentence in this paragraph should include a transitional concluding hook that signals the reader that this is the final major point being made in this paper.', ' ')\n",
      "('this topic should relate to the thesis statement in the introductory paragraph.', ' ')\n"
     ]
    }
   ],
   "source": [
    "    for i in range(len(min_heap)-1):\n",
    "        print(pop1()[1],\" \")"
   ]
  }
 ],
 "metadata": {
  "kernelspec": {
   "display_name": "Python 3",
   "language": "python",
   "name": "python3"
  },
  "language_info": {
   "codemirror_mode": {
    "name": "ipython",
    "version": 2
   },
   "file_extension": ".py",
   "mimetype": "text/x-python",
   "name": "python",
   "nbconvert_exporter": "python",
   "pygments_lexer": "ipython2",
   "version": "2.7.12"
  }
 },
 "nbformat": 4,
 "nbformat_minor": 2
}
