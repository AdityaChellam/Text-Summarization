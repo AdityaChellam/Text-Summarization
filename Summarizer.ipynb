{
 "cells": [
  {
   "cell_type": "code",
   "execution_count": 15,
   "metadata": {
    "collapsed": true,
    "deletable": true,
    "editable": true
   },
   "outputs": [],
   "source": [
    "import sys\n",
    "import re"
   ]
  },
  {
   "cell_type": "markdown",
   "metadata": {
    "deletable": true,
    "editable": true
   },
   "source": [
    "# Heap of sentences"
   ]
  },
  {
   "cell_type": "code",
   "execution_count": 16,
   "metadata": {
    "collapsed": false,
    "deletable": true,
    "editable": true
   },
   "outputs": [],
   "source": [
    "stem_word = [\"the\",\"a\",\"an\",\"was\",\"is\",\"are\",\"of\"]\n",
    "weight={}\n",
    "max_heap=[tuple()]\n",
    "heap_size = 0\n",
    "def insert(weight_set):\n",
    "    max_heap.append(weight_set)\n",
    "    swim()\n",
    "def swim():\n",
    "    index = len(max_heap)-1\n",
    "    while (index > 1 and max_heap[(index)//2][0]< max_heap[index][0]):\n",
    "        swap((index)//2,index)\n",
    "        index = (index)//2\n",
    "    return\n",
    "def sink(n):\n",
    "    right_index = 2*n+1\n",
    "    left_index = 2*n\n",
    "    source = n\n",
    "    if (right_index<(len(max_heap)-1) and max_heap[right_index][0]>max_heap[source][0]):\n",
    "        source = right_index\n",
    "    if (right_index<(len(max_heap)-1) and max_heap[left_index][0]>max_heap[source][0]):\n",
    "        source = left_index\n",
    "    if (source != n):\n",
    "        swap(n,source)\n",
    "        sink(source)\n",
    "    return\n",
    "def swap(a,b):\n",
    "    max_heap[a],max_heap[b]=max_heap[b],max_heap[a]\n",
    "def pop():\n",
    "    index = len(max_heap)-1\n",
    "    val = max_heap[1]\n",
    "    max_heap[1] = max_heap[index]\n",
    "    del max_heap[index]\n",
    "    sink(1)\n",
    "    return val"
   ]
  },
  {
   "cell_type": "code",
   "execution_count": 17,
   "metadata": {
    "collapsed": false,
    "deletable": true,
    "editable": true
   },
   "outputs": [],
   "source": [
    "if __name__=='__main__':\n",
    "    file1=open(\"textpara.txt\",\"r+\");\n",
    "    text_string = file1.read().lower()\n",
    "    match_pattern = re.findall(r'\\b[a-z]{3,25}\\b', text_string)"
   ]
  },
  {
   "cell_type": "markdown",
   "metadata": {
    "deletable": true,
    "editable": true
   },
   "source": [
    "# Generating word vector"
   ]
  },
  {
   "cell_type": "code",
   "execution_count": 18,
   "metadata": {
    "collapsed": false,
    "deletable": true,
    "editable": true
   },
   "outputs": [
    {
     "name": "stdout",
     "output_type": "stream",
     "text": [
      "with 0.011811023622047244\n",
      "which 0.011811023622047244\n",
      "ties 0.011811023622047244\n",
      "reverse 0.011811023622047244\n",
      "this 0.05905511811023622\n",
      "cleverest 0.007874015748031496\n",
      "topic 0.023622047244094488\n",
      "last 0.015748031496062992\n",
      "should 0.05905511811023622\n",
      "sentence 0.03543307086614173\n",
      "end 0.011811023622047244\n",
      "second 0.03937007874015748\n",
      "obvious 0.011811023622047244\n",
      "hook 0.03937007874015748\n",
      "contain 0.011811023622047244\n",
      "reader 0.003937007874015748\n",
      "the 0.20078740157480315\n",
      "illustration 0.011811023622047244\n",
      "also 0.003937007874015748\n",
      "strongest 0.007874015748031496\n",
      "paper 0.003937007874015748\n",
      "that 0.007874015748031496\n",
      "thesis 0.011811023622047244\n",
      "signals 0.003937007874015748\n",
      "being 0.003937007874015748\n",
      "follow 0.007874015748031496\n",
      "most 0.007874015748031496\n",
      "paragraph 0.09055118110236221\n",
      "into 0.011811023622047244\n",
      "leads 0.003937007874015748\n",
      "beginning 0.003937007874015748\n",
      "include 0.023622047244094488\n",
      "tie 0.007874015748031496\n",
      "example 0.011811023622047244\n",
      "for 0.011811023622047244\n",
      "argument 0.011811023622047244\n",
      "introductory 0.015748031496062992\n",
      "major 0.003937007874015748\n",
      "significant 0.007874015748031496\n",
      "point 0.007874015748031496\n",
      "statement 0.011811023622047244\n",
      "relate 0.011811023622047244\n",
      "final 0.003937007874015748\n",
      "first 0.03543307086614173\n",
      "weakest 0.011811023622047244\n",
      "concluding 0.007874015748031496\n",
      "transitional 0.023622047244094488\n",
      "third 0.007874015748031496\n",
      "made 0.003937007874015748\n",
      "body 0.031496062992125984\n"
     ]
    }
   ],
   "source": [
    "    for word in match_pattern:\n",
    "        count = weight.get(word,0)\n",
    "        weight[word] = count + 1\n",
    "    frequency_list = weight.keys()\n",
    "    for words in frequency_list:\n",
    "        print(words, weight[words]/sum(weight.values()))\n",
    "    file1.close()\n"
   ]
  },
  {
   "cell_type": "code",
   "execution_count": 19,
   "metadata": {
    "collapsed": false,
    "deletable": true,
    "editable": true
   },
   "outputs": [
    {
     "name": "stdout",
     "output_type": "stream",
     "text": [
      "\n",
      "\n",
      "PART 2\n",
      "point.\n",
      "paragraph.\n",
      "sentence.\n",
      "paragraph.\n",
      "body.\n",
      "body.\n",
      "body.\n",
      "sentence.\n",
      "paragraph.\n",
      "body.\n",
      "body.\n",
      "paragraph.\n",
      "sentence.\n",
      "paragraph.\n",
      "paper.\n",
      "paragraph.\n"
     ]
    }
   ],
   "source": [
    "    print(\"\\n\\nPART 2\")\n",
    "    file1=open(\"textpara.txt\",\"r+\");\n",
    "    sentence = file1.read().lower().split()\n",
    "    for word in sentence:\n",
    "        if word[-1]==\".\":\n",
    "            print(word)\n",
    "    file1.close()"
   ]
  },
  {
   "cell_type": "code",
   "execution_count": 20,
   "metadata": {
    "collapsed": false,
    "deletable": true,
    "editable": true
   },
   "outputs": [
    {
     "name": "stdout",
     "output_type": "stream",
     "text": [
      "[(), (247102560276128, 'this hook also leads into the last, or concluding, paragraph.'), (90555029732585, 'the last sentence in this paragraph should include a transitional concluding hook that signals the reader that this is the final major point being made in this paper.'), (4703586904376, 'this topic should relate to the thesis statement in the introductory paragraph.'), (4402268184, 'the last sentence in this paragraph should include a transitional hook to tie into the third paragraph of the body.'), (649361267, 'this topic should relate to the thesis statement in the introductory paragraph.'), (108537182448, 'the third paragraph of the body should contain the weakest argument, weakest example, weakest illustration, or an obvious follow up to the second paragraph in the body.'), (1300062545359, 'the topic for this paragraph should be in the first or second sentence.'), (58586575, 'the first sentence of this paragraph should include the reverse hook which ties in with the transitional hook at the end of the first paragraph of the body.'), (30149, 'this topic should relate to the thesis statement in the introductory paragraph.'), (9345, 'the topic for this paragraph should be in the first or second sentence.'), (203647008, 'the topic for this paragraph should be in the first or second sentence.'), (4639, 'the first sentence of this paragraph should include the \"reverse hook\" which ties in with the transitional hook at the end of the introductory paragraph.'), (8624722, 'the second paragraph of the body should contain the second strongest argument, second most significant example, second cleverest illustration, or an obvious follow up the first paragraph in the body.'), (216190, 'the last sentence in this paragraph should include a transitional hook to tie into the second paragraph of the body.'), (558302906443, 'the first sentence of this paragraph should include the reverse hook which ties in with the transitional hook at the end of the second paragraph.'), (1173, 'the first paragraph of the body should contain the strongest argument, most significant example, cleverest illustration, or an obvious beginning point.')]\n"
     ]
    }
   ],
   "source": [
    "    local_sentence= []\n",
    "    weight_sentence=0\n",
    "    for word in sentence:\n",
    "        if word[-1]==\".\":\n",
    "            if (word in stem_word):\n",
    "                pass\n",
    "            else:\n",
    "                weight_sentence+=weight[word[0:-1]]\n",
    "            local_sentence.append(word)\n",
    "            insert(tuple((weight_sentence,\" \".join(local_sentence))))\n",
    "            weight_sentence=0\n",
    "            local_sentence = []\n",
    "        else:\n",
    "            if (word in stem_word):\n",
    "                pass\n",
    "            else:\n",
    "                count+=weight.get(word,0)\n",
    "                weight_sentence+=count\n",
    "                weight[word]=count\n",
    "            local_sentence.append(word)\n",
    "    print(max_heap)"
   ]
  },
  {
   "cell_type": "code",
   "execution_count": 21,
   "metadata": {
    "collapsed": false,
    "deletable": true,
    "editable": true
   },
   "outputs": [
    {
     "name": "stdout",
     "output_type": "stream",
     "text": [
      "this hook also leads into the last, or concluding, paragraph.  \n",
      "the last sentence in this paragraph should include a transitional concluding hook that signals the reader that this is the final major point being made in this paper.  \n",
      "this topic should relate to the thesis statement in the introductory paragraph.  \n",
      "the topic for this paragraph should be in the first or second sentence.  \n",
      "the first sentence of this paragraph should include the reverse hook which ties in with the transitional hook at the end of the second paragraph.  \n"
     ]
    }
   ],
   "source": [
    "    for _ in range(5):\n",
    "        print (pop()[1],\" \")"
   ]
  }
 ],
 "metadata": {
  "kernelspec": {
   "display_name": "Python 3",
   "language": "python",
   "name": "python3"
  },
  "language_info": {
   "codemirror_mode": {
    "name": "ipython",
    "version": 3
   },
   "file_extension": ".py",
   "mimetype": "text/x-python",
   "name": "python",
   "nbconvert_exporter": "python",
   "pygments_lexer": "ipython3",
   "version": "3.5.2"
  }
 },
 "nbformat": 4,
 "nbformat_minor": 2
}
